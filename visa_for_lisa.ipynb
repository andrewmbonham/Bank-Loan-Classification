{
 "cells": [
  {
   "cell_type": "markdown",
   "id": "68d02731",
   "metadata": {},
   "source": [
    "# Bank Loan Classification\n",
    "### Contents\n",
    "#### Importing and cleaning the data\n",
    "#### Data exploration\n",
    "#### Data visualization\n",
    "#### Modeling the data\n",
    "#### Results"
   ]
  },
  {
   "cell_type": "code",
   "execution_count": null,
   "id": "e0b73cf2",
   "metadata": {},
   "outputs": [],
   "source": [
    "import numpy as np\n",
    "import pandas as pd\n",
    "import matplotlib.pyplot as plt\n",
    "from matplotlib import colors"
   ]
  },
  {
   "cell_type": "markdown",
   "id": "201d2ef4",
   "metadata": {},
   "source": [
    "# Importing and cleaning the data"
   ]
  },
  {
   "cell_type": "code",
   "execution_count": null,
   "id": "9a508c0f",
   "metadata": {},
   "outputs": [],
   "source": [
    "data = pd.read_csv(\"Visa_For_Lisa_Loan_Modelling.csv\", index_col=0)\n",
    "data"
   ]
  },
  {
   "cell_type": "code",
   "execution_count": null,
   "id": "c739bbc4",
   "metadata": {},
   "outputs": [],
   "source": [
    "nan_count = pd.isna(data).sum()\n",
    "nan_count"
   ]
  },
  {
   "cell_type": "code",
   "execution_count": null,
   "id": "52898619",
   "metadata": {},
   "outputs": [],
   "source": [
    "if nan_count.sum() == 0:\n",
    "    print(\"No NaNs to clean.\")"
   ]
  },
  {
   "cell_type": "markdown",
   "id": "5f427de3",
   "metadata": {},
   "source": [
    "# Data exploration"
   ]
  },
  {
   "cell_type": "markdown",
   "id": "a80d5240",
   "metadata": {},
   "source": [
    "Calculating average values for loan and no-loan groups"
   ]
  },
  {
   "cell_type": "code",
   "execution_count": null,
   "id": "d116d8e6",
   "metadata": {},
   "outputs": [],
   "source": [
    "means = data.groupby(\"Personal Loan\").mean()\n",
    "means"
   ]
  },
  {
   "cell_type": "markdown",
   "id": "d993d115",
   "metadata": {},
   "source": [
    "Some categories vary more significantly than others"
   ]
  },
  {
   "cell_type": "code",
   "execution_count": null,
   "id": "79ca2daa",
   "metadata": {},
   "outputs": [],
   "source": [
    "print(\"Absolute percentage differences between loan and no-loan means:\")\n",
    "differences = round(abs((means.iloc[0] / means.iloc[1] - 1) * 100), 1).sort_values(\n",
    "    ascending=False\n",
    ")\n",
    "differences"
   ]
  },
  {
   "cell_type": "code",
   "execution_count": null,
   "id": "8653f42e",
   "metadata": {},
   "outputs": [],
   "source": [
    "categories = list(differences[differences > 5].keys())\n",
    "print(\"Categoried with >10% difference between loan and no-loan means:\")\n",
    "print(categories)"
   ]
  },
  {
   "cell_type": "markdown",
   "id": "365a4aec",
   "metadata": {},
   "source": [
    "# Data visualization"
   ]
  },
  {
   "cell_type": "markdown",
   "id": "1da1e883",
   "metadata": {},
   "source": [
    "Categories with stronger trends show clearer clustering"
   ]
  },
  {
   "cell_type": "code",
   "execution_count": null,
   "id": "288729e1",
   "metadata": {},
   "outputs": [],
   "source": [
    "plt.scatter(\n",
    "    data[\"Income\"],\n",
    "    data[\"CCAvg\"],\n",
    "    c=data[\"Personal Loan\"],\n",
    "    cmap=colors.ListedColormap([\"blue\", \"red\"]),\n",
    ")\n",
    "plt.xlabel(\"Income\")\n",
    "plt.ylabel(\"CCAvg\")\n",
    "plt.show()"
   ]
  },
  {
   "cell_type": "markdown",
   "id": "0a64ffe3",
   "metadata": {},
   "source": [
    "Categories with weaker trends exhibit less obvious clustering"
   ]
  },
  {
   "cell_type": "code",
   "execution_count": null,
   "id": "25e7b8cd",
   "metadata": {},
   "outputs": [],
   "source": [
    "plt.scatter(\n",
    "    data[\"Experience\"],\n",
    "    data[\"Age\"],\n",
    "    c=data[\"Personal Loan\"],\n",
    "    cmap=colors.ListedColormap([\"blue\", \"red\"]),\n",
    ")\n",
    "plt.xlabel(\"Experiene\")\n",
    "plt.ylabel(\"Age\")\n",
    "plt.show()"
   ]
  },
  {
   "cell_type": "markdown",
   "id": "cb3b860e",
   "metadata": {},
   "source": [
    "# Modeling the data"
   ]
  },
  {
   "cell_type": "markdown",
   "id": "f7fb8718",
   "metadata": {},
   "source": [
    "## Preparing the data"
   ]
  },
  {
   "cell_type": "markdown",
   "id": "a3113c7a",
   "metadata": {},
   "source": [
    "### Split into train and test datasets"
   ]
  },
  {
   "cell_type": "code",
   "execution_count": null,
   "id": "d0bfbee8",
   "metadata": {},
   "outputs": [],
   "source": [
    "data_shuffled = data.sample(frac=1)"
   ]
  },
  {
   "cell_type": "code",
   "execution_count": null,
   "id": "b75f9037",
   "metadata": {},
   "outputs": [],
   "source": [
    "train_pct = 0.8\n",
    "train_n = int(train_pct * len(data_shuffled))\n",
    "train_data = data_shuffled.iloc[:train_n]\n",
    "test_data = data_shuffled[train_n:]\n",
    "print(f\"Train data shape: {train_data.shape}\\nTest data shape: {test_data.shape}\")"
   ]
  },
  {
   "cell_type": "code",
   "execution_count": null,
   "id": "676325e9",
   "metadata": {},
   "outputs": [],
   "source": [
    "print(\"Number of personal loans in test data:\")\n",
    "test_data[\"Personal Loan\"].sum()"
   ]
  },
  {
   "cell_type": "code",
   "execution_count": null,
   "id": "f51765b2",
   "metadata": {},
   "outputs": [],
   "source": [
    "print(\"Total number of personal loans:\")\n",
    "data[\"Personal Loan\"].sum()"
   ]
  },
  {
   "cell_type": "markdown",
   "id": "2b2f2db1",
   "metadata": {},
   "source": [
    "### Prepare training data for the model"
   ]
  },
  {
   "cell_type": "code",
   "execution_count": null,
   "id": "4d641e21",
   "metadata": {},
   "outputs": [],
   "source": [
    "X = train_data[categories]\n",
    "mean, std = X.mean(), X.std()\n",
    "X_norm = (X - mean) / std\n",
    "X_norm = np.array(X_norm.T)\n",
    "\n",
    "Y = np.array(train_data[\"Personal Loan\"]).reshape(1, len(train_data))\n",
    "Y_norm = Y.copy()\n",
    "\n",
    "print(\"Training dataset X containing (CD Account, ..., Education) in the columns:\")\n",
    "print(X_norm)\n",
    "print(\"Training dataset Y containing labels of two classes (0: no loan, 1: loan)\")\n",
    "print(Y_norm)\n",
    "\n",
    "print(\"The shape of X is: \" + str(X_norm.shape))\n",
    "print(\"The shape of Y is: \" + str(Y_norm.shape))\n",
    "print(\"I have m = %d training examples!\" % (X_norm.shape[1]))"
   ]
  },
  {
   "cell_type": "markdown",
   "id": "d3c4982f",
   "metadata": {},
   "source": [
    "## Building the model"
   ]
  },
  {
   "cell_type": "code",
   "execution_count": null,
   "id": "fd00ec0b",
   "metadata": {},
   "outputs": [],
   "source": [
    "# activation function\n",
    "def sigmoid(z):\n",
    "    return 1 / (1 + np.exp(-z))"
   ]
  },
  {
   "cell_type": "code",
   "execution_count": null,
   "id": "e5ace9a7",
   "metadata": {},
   "outputs": [],
   "source": [
    "def layer_sizes(X, Y):\n",
    "    \"\"\"\n",
    "    Arguments:\n",
    "    X -- input dataset of shape (input size, number of examples)\n",
    "    Y -- labels of shape (output size, number of examples)\n",
    "\n",
    "    Returns:\n",
    "    n_x -- the size of the input layer\n",
    "    n_y -- the size of the output layer\n",
    "    \"\"\"\n",
    "    n_x = X.shape[0]\n",
    "    n_y = Y.shape[0]\n",
    "\n",
    "    return (n_x, n_y)\n",
    "\n",
    "\n",
    "(n_x, n_y) = layer_sizes(X_norm, Y_norm)\n",
    "print(\"The size of the input layer is: n_x = \" + str(n_x))\n",
    "print(\"The size of the output layer is: n_y = \" + str(n_y))"
   ]
  },
  {
   "cell_type": "code",
   "execution_count": null,
   "id": "8cc88d23",
   "metadata": {},
   "outputs": [],
   "source": [
    "def initialize_parameters(n_x, n_y):\n",
    "    \"\"\"\n",
    "    Returns:\n",
    "    params -- python dictionary containing your parameters:\n",
    "                    W -- weight matrix of shape (n_y, n_x)\n",
    "                    b -- bias value set as a vector of shape (n_y, 1)\n",
    "    \"\"\"\n",
    "\n",
    "    W = np.random.randn(n_y, n_x) * 0.01\n",
    "    b = np.zeros((n_y, 1))\n",
    "\n",
    "    parameters = {\"W\": W, \"b\": b}\n",
    "\n",
    "    return parameters\n",
    "\n",
    "\n",
    "parameters = initialize_parameters(n_x, n_y)\n",
    "print(\"W = \" + str(parameters[\"W\"]))\n",
    "print(\"b = \" + str(parameters[\"b\"]))"
   ]
  },
  {
   "cell_type": "code",
   "execution_count": null,
   "id": "72ce5ead",
   "metadata": {},
   "outputs": [],
   "source": [
    "def forward_propagation(X, parameters):\n",
    "    \"\"\"\n",
    "    Argument:\n",
    "    X -- input data of size (n_x, m)\n",
    "    parameters -- python dictionary containing your parameters (output of initialization function)\n",
    "\n",
    "    Returns:\n",
    "    A -- The output\n",
    "    \"\"\"\n",
    "    W = parameters[\"W\"]\n",
    "    b = parameters[\"b\"]\n",
    "\n",
    "    # Forward Propagation to calculate Z.\n",
    "    Z = np.matmul(W, X) + b\n",
    "    A = sigmoid(Z)\n",
    "\n",
    "    return A\n",
    "\n",
    "\n",
    "A = forward_propagation(X_norm, parameters)\n",
    "\n",
    "print(\"Output vector A:\", A)"
   ]
  },
  {
   "cell_type": "code",
   "execution_count": null,
   "id": "3d750dce",
   "metadata": {},
   "outputs": [],
   "source": [
    "def compute_cost(A, Y):\n",
    "    \"\"\"\n",
    "    Computes the log loss cost function\n",
    "\n",
    "    Arguments:\n",
    "    A -- The output of the neural network of shape (n_y, number of examples)\n",
    "    Y -- \"true\" labels vector of shape (n_y, number of examples)\n",
    "\n",
    "    Returns:\n",
    "    cost -- log loss\n",
    "\n",
    "    \"\"\"\n",
    "    # Number of examples.\n",
    "    m = Y.shape[1]\n",
    "\n",
    "    # Compute the cost function.\n",
    "    logprobs = -np.multiply(np.log(A), Y) - np.multiply(np.log(1 - A), 1 - Y)\n",
    "    cost = 1 / m * np.sum(logprobs)\n",
    "\n",
    "    return cost\n",
    "\n",
    "\n",
    "print(\"cost = \" + str(compute_cost(A, Y_norm)))"
   ]
  },
  {
   "cell_type": "code",
   "execution_count": null,
   "id": "689e118a",
   "metadata": {},
   "outputs": [],
   "source": [
    "def backward_propagation(A, X, Y):\n",
    "    \"\"\"\n",
    "    Implements the backward propagation, calculating gradients\n",
    "\n",
    "    Arguments:\n",
    "    A -- the output of the neural network of shape (n_y, number of examples)\n",
    "    X -- input data of shape (n_x, number of examples)\n",
    "    Y -- \"true\" labels vector of shape (n_y, number of examples)\n",
    "\n",
    "    Returns:\n",
    "    grads -- python dictionary containing gradients with respect to different parameters\n",
    "    \"\"\"\n",
    "    m = X.shape[1]\n",
    "\n",
    "    # Backward propagation: calculate partial derivatives denoted as dW, db for simplicity.\n",
    "    dZ = A - Y\n",
    "    dW = 1 / m * np.dot(dZ, X.T)\n",
    "    db = 1 / m * np.sum(dZ, axis=1, keepdims=True)\n",
    "\n",
    "    grads = {\"dW\": dW, \"db\": db}\n",
    "\n",
    "    return grads\n",
    "\n",
    "\n",
    "grads = backward_propagation(A, X_norm, Y_norm)\n",
    "\n",
    "print(\"dW = \" + str(grads[\"dW\"]))\n",
    "print(\"db = \" + str(grads[\"db\"]))"
   ]
  },
  {
   "cell_type": "code",
   "execution_count": null,
   "id": "fbaeffd3",
   "metadata": {},
   "outputs": [],
   "source": [
    "def update_parameters(parameters, grads, learning_rate=0.1):\n",
    "    \"\"\"\n",
    "    Updates parameters using gradient descent\n",
    "\n",
    "    Arguments:\n",
    "    parameters -- python dictionary containing parameters\n",
    "    grads -- python dictionary containing gradients\n",
    "    learning_rate -- learning rate parameter for gradient descent\n",
    "\n",
    "    Returns:\n",
    "    parameters -- python dictionary containing updated parameters\n",
    "    \"\"\"\n",
    "    # Retrieve each parameter from the dictionary \"parameters\".\n",
    "    W = parameters[\"W\"]\n",
    "    b = parameters[\"b\"]\n",
    "\n",
    "    # Retrieve each gradient from the dictionary \"grads\".\n",
    "    dW = grads[\"dW\"]\n",
    "    db = grads[\"db\"]\n",
    "\n",
    "    # Update rule for each parameter.\n",
    "    W = W - learning_rate * dW\n",
    "    b = b - learning_rate * db\n",
    "\n",
    "    parameters = {\"W\": W, \"b\": b}\n",
    "\n",
    "    return parameters\n",
    "\n",
    "\n",
    "parameters_updated = update_parameters(parameters, grads)\n",
    "\n",
    "print(\"W updated = \" + str(parameters_updated[\"W\"]))\n",
    "print(\"b updated = \" + str(parameters_updated[\"b\"]))"
   ]
  },
  {
   "cell_type": "code",
   "execution_count": null,
   "id": "f5b1dd3d",
   "metadata": {},
   "outputs": [],
   "source": [
    "def nn_model(X, Y, num_iterations=10, learning_rate=0.1, print_cost=False):\n",
    "    \"\"\"\n",
    "    Arguments:\n",
    "    X -- dataset of shape (n_x, number of examples)\n",
    "    Y -- labels of shape (n_y, number of examples)\n",
    "    num_iterations -- number of iterations in the loop\n",
    "    learning_rate -- learning rate parameter for gradient descent\n",
    "    print_cost -- if True, print the cost every iteration\n",
    "\n",
    "    Returns:\n",
    "    parameters -- parameters learnt by the model. They are then used to make predictions.\n",
    "    \"\"\"\n",
    "\n",
    "    n_x = layer_sizes(X, Y)[0]\n",
    "    n_y = layer_sizes(X, Y)[1]\n",
    "\n",
    "    parameters = initialize_parameters(n_x, n_y)\n",
    "\n",
    "    # Loop\n",
    "    for i in range(0, num_iterations):\n",
    "        # Forward propagation. Inputs: \"X, parameters\". Outputs: \"A\".\n",
    "        A = forward_propagation(X, parameters)\n",
    "\n",
    "        # Cost function. Inputs: \"A, Y\". Outputs: \"cost\".\n",
    "        cost = compute_cost(A, Y)\n",
    "\n",
    "        # Backpropagation. Inputs: \"A, X, Y\". Outputs: \"grads\".\n",
    "        grads = backward_propagation(A, X, Y)\n",
    "\n",
    "        # Gradient descent parameter update. Inputs: \"parameters, grads, learning_rate\". Outputs: \"parameters\".\n",
    "        parameters = update_parameters(parameters, grads, learning_rate)\n",
    "\n",
    "        # Print the cost every iteration.\n",
    "        if print_cost:\n",
    "            print(\"Cost after iteration %i: %f\" % (i, cost))\n",
    "\n",
    "    return parameters"
   ]
  },
  {
   "cell_type": "code",
   "execution_count": null,
   "id": "c5375e16",
   "metadata": {},
   "outputs": [],
   "source": [
    "parameters = nn_model(\n",
    "    X_norm, Y_norm, num_iterations=1000, learning_rate=1, print_cost=True\n",
    ")\n",
    "print(\"W = \" + str(parameters[\"W\"]))\n",
    "print(\"b = \" + str(parameters[\"b\"]))"
   ]
  },
  {
   "cell_type": "code",
   "execution_count": null,
   "id": "08792a04",
   "metadata": {},
   "outputs": [],
   "source": [
    "def predict(X_pred, parameters):\n",
    "    A = forward_propagation(X_pred, parameters)\n",
    "    return A > 0.33"
   ]
  },
  {
   "cell_type": "markdown",
   "id": "4aea2a7a",
   "metadata": {},
   "source": [
    "# Results"
   ]
  },
  {
   "cell_type": "markdown",
   "id": "36060bbb",
   "metadata": {},
   "source": [
    "## Training data"
   ]
  },
  {
   "cell_type": "code",
   "execution_count": null,
   "id": "a7a76948",
   "metadata": {},
   "outputs": [],
   "source": [
    "Y_pred = predict(X_norm, parameters)"
   ]
  },
  {
   "cell_type": "markdown",
   "id": "c241f837",
   "metadata": {},
   "source": [
    "Overall accuracy"
   ]
  },
  {
   "cell_type": "code",
   "execution_count": null,
   "id": "5066ef57",
   "metadata": {},
   "outputs": [],
   "source": [
    "pct_correct = round(100 * (1 - np.abs((Y_pred - Y_norm)).sum() / len(Y_pred[0])), 1)\n",
    "print(f\"Accuracy: {pct_correct}%\")"
   ]
  },
  {
   "cell_type": "markdown",
   "id": "7b4d1272",
   "metadata": {},
   "source": [
    "Proportion of loans accuracy"
   ]
  },
  {
   "cell_type": "code",
   "execution_count": null,
   "id": "b177e91d",
   "metadata": {},
   "outputs": [],
   "source": [
    "pct_correct = round(100 * (1 - abs(1 - Y_pred.sum() / Y_norm.sum())), 1)\n",
    "print(f\"Loan proportion accuracy: {pct_correct}%\")"
   ]
  },
  {
   "cell_type": "markdown",
   "id": "05790267",
   "metadata": {},
   "source": [
    "Correctly identified loans"
   ]
  },
  {
   "cell_type": "code",
   "execution_count": null,
   "id": "ff79cb02",
   "metadata": {},
   "outputs": [],
   "source": [
    "df = pd.DataFrame(columns=[\"Actual\", \"Prediction\"])\n",
    "df[\"Actual\"] = Y_norm[0]\n",
    "df[\"Prediction\"] = Y_pred[0] * 1"
   ]
  },
  {
   "cell_type": "code",
   "execution_count": null,
   "id": "1249701d",
   "metadata": {},
   "outputs": [],
   "source": [
    "loans = df[df[\"Actual\"] == 1]\n",
    "pct_correct = round(\n",
    "    100 * (1 - np.abs((loans[\"Actual\"] - loans[\"Prediction\"])).sum() / len(loans)), 1\n",
    ")\n",
    "print(f\"Loans identified accuracy: {pct_correct}%\")"
   ]
  },
  {
   "cell_type": "markdown",
   "id": "2763a0bd",
   "metadata": {},
   "source": [
    "Correctly identified no-loans"
   ]
  },
  {
   "cell_type": "code",
   "execution_count": null,
   "id": "cd72538f",
   "metadata": {},
   "outputs": [],
   "source": [
    "no_loans = df[df[\"Actual\"] == 0]\n",
    "pct_correct = round(\n",
    "    100\n",
    "    * (1 - np.abs((no_loans[\"Actual\"] - no_loans[\"Prediction\"])).sum() / len(no_loans)),\n",
    "    1,\n",
    ")\n",
    "print(f\"No-loan identification accuracy: {pct_correct}%\")"
   ]
  },
  {
   "cell_type": "markdown",
   "id": "5d56d769",
   "metadata": {},
   "source": [
    "## Test data"
   ]
  },
  {
   "cell_type": "code",
   "execution_count": null,
   "id": "1e1d58fd",
   "metadata": {},
   "outputs": [],
   "source": [
    "X_test = test_data[categories]\n",
    "# mean, std = X.mean(), X.std() # use same mean and std from train data\n",
    "X_test_norm = (X_test - mean) / std\n",
    "X_test_norm = np.array(X_test_norm.T)\n",
    "\n",
    "Y_test = np.array(test_data[\"Personal Loan\"]).reshape(1, len(test_data))\n",
    "Y_test_norm = Y_test.copy()\n",
    "\n",
    "print(\"Testing dataset X containing (CD Account, ..., Education) in the columns:\")\n",
    "print(X_test_norm)\n",
    "print(\"Testing dataset Y containing labels of two classes (0: no loan, 1: loan)\")\n",
    "print(Y_test_norm)\n",
    "\n",
    "print(\"The shape of X is: \" + str(X_test_norm.shape))\n",
    "print(\"The shape of Y is: \" + str(Y_test_norm.shape))\n",
    "print(\"I have m = %d testing examples!\" % (X_test_norm.shape[1]))"
   ]
  },
  {
   "cell_type": "code",
   "execution_count": null,
   "id": "7dae226c",
   "metadata": {},
   "outputs": [],
   "source": [
    "Y_test_pred = predict(X_test_norm, parameters)"
   ]
  },
  {
   "cell_type": "markdown",
   "id": "9dc501d9",
   "metadata": {},
   "source": [
    "Overall accuracy"
   ]
  },
  {
   "cell_type": "code",
   "execution_count": null,
   "id": "7e21170b",
   "metadata": {},
   "outputs": [],
   "source": [
    "pct_correct = round(\n",
    "    100 * (1 - np.abs((Y_test_norm - Y_test_pred)).sum() / len(Y_test_pred[0])), 1\n",
    ")\n",
    "print(f\"Accuracy: {pct_correct}%\")"
   ]
  },
  {
   "cell_type": "markdown",
   "id": "4bb8f88f",
   "metadata": {},
   "source": [
    "Proportion of loans accuracy"
   ]
  },
  {
   "cell_type": "code",
   "execution_count": null,
   "id": "d90c6ea2",
   "metadata": {},
   "outputs": [],
   "source": [
    "pct_correct = round(100 * (1 - abs(1 - Y_test_pred.sum() / Y_test_norm.sum())), 1)\n",
    "print(f\"Loan proportion accuracy: {pct_correct}%\")"
   ]
  },
  {
   "cell_type": "markdown",
   "id": "2904f896",
   "metadata": {},
   "source": [
    "Correctly identified loans"
   ]
  },
  {
   "cell_type": "code",
   "execution_count": null,
   "id": "10ac018e",
   "metadata": {},
   "outputs": [],
   "source": [
    "df = pd.DataFrame(columns=[\"Actual\", \"Prediction\"])\n",
    "df[\"Actual\"] = Y_test_norm[0]\n",
    "df[\"Prediction\"] = Y_test_pred[0] * 1"
   ]
  },
  {
   "cell_type": "code",
   "execution_count": null,
   "id": "8ef77430",
   "metadata": {},
   "outputs": [],
   "source": [
    "loans = df[df[\"Actual\"] == 1]\n",
    "pct_correct = round(\n",
    "    100 * (1 - np.abs((loans[\"Actual\"] - loans[\"Prediction\"])).sum() / len(loans)), 1\n",
    ")\n",
    "print(f\"Loans identified accuracy: {pct_correct}%\")"
   ]
  },
  {
   "cell_type": "markdown",
   "id": "abe46789",
   "metadata": {},
   "source": [
    "Correctly identified no-loans"
   ]
  },
  {
   "cell_type": "code",
   "execution_count": null,
   "id": "c24a3107",
   "metadata": {},
   "outputs": [],
   "source": [
    "no_loans = df[df[\"Actual\"] == 0]\n",
    "pct_correct = round(\n",
    "    100\n",
    "    * (1 - np.abs((no_loans[\"Actual\"] - no_loans[\"Prediction\"])).sum() / len(no_loans)),\n",
    "    1,\n",
    ")\n",
    "print(f\"No-loan identification accuracy: {pct_correct}%\")"
   ]
  },
  {
   "cell_type": "code",
   "execution_count": null,
   "id": "f82f7149",
   "metadata": {},
   "outputs": [],
   "source": []
  }
 ],
 "metadata": {
  "kernelspec": {
   "display_name": "Python 3 (ipykernel)",
   "language": "python",
   "name": "python3"
  },
  "language_info": {
   "codemirror_mode": {
    "name": "ipython",
    "version": 3
   },
   "file_extension": ".py",
   "mimetype": "text/x-python",
   "name": "python",
   "nbconvert_exporter": "python",
   "pygments_lexer": "ipython3",
   "version": "3.11.5"
  }
 },
 "nbformat": 4,
 "nbformat_minor": 5
}
